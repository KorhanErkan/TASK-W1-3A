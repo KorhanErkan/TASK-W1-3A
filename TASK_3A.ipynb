{
  "nbformat": 4,
  "nbformat_minor": 0,
  "metadata": {
    "colab": {
      "provenance": [],
      "collapsed_sections": [],
      "authorship_tag": "ABX9TyNHAZq8VVlyGuLFwA4+2hnT",
      "include_colab_link": true
    },
    "kernelspec": {
      "name": "python3",
      "display_name": "Python 3"
    },
    "language_info": {
      "name": "python"
    }
  },
  "cells": [
    {
      "cell_type": "markdown",
      "metadata": {
        "id": "view-in-github",
        "colab_type": "text"
      },
      "source": [
        "<a href=\"https://colab.research.google.com/github/KorhanErkan/TASK-3A/blob/master/TASK_3A.ipynb\" target=\"_parent\"><img src=\"https://colab.research.google.com/assets/colab-badge.svg\" alt=\"Open In Colab\"/></a>"
      ]
    },
    {
      "cell_type": "code",
      "execution_count": 5,
      "metadata": {
        "colab": {
          "base_uri": "https://localhost:8080/"
        },
        "id": "ZlvlJwKJ-PZ9",
        "outputId": "37245ce5-9cb2-4f7b-ce64-d22097642c24"
      },
      "outputs": [
        {
          "output_type": "stream",
          "name": "stdout",
          "text": [
            "[11, 18, 22, 33, 43, 44]\n",
            "[8, 13, 18, 20, 39, 42]\n",
            "[1, 3, 12, 14, 26, 46]\n",
            "[9, 13, 21, 27, 28, 48]\n",
            "[1, 12, 15, 17, 26, 30]\n",
            "[7, 13, 19, 24, 29, 39]\n",
            "[26, 27, 35, 38, 39, 41]\n",
            "[9, 14, 17, 21, 31, 44]\n"
          ]
        },
        {
          "output_type": "stream",
          "name": "stderr",
          "text": [
            "/usr/local/lib/python3.7/dist-packages/ipykernel_launcher.py:11: VisibleDeprecationWarning: Creating an ndarray from ragged nested sequences (which is a list-or-tuple of lists-or-tuples-or ndarrays with different lengths or shapes) is deprecated. If you meant to do this, you must specify 'dtype=object' when creating the ndarray.\n",
            "  # This is added back by InteractiveShellApp.init_path()\n"
          ]
        }
      ],
      "source": [
        "from random import randint\n",
        "import numpy as np\n",
        "arr = (np.random.randint(50, size=(6, 6))).tolist()\n",
        "for i in range(0, 8):\n",
        "    x = 0\n",
        "    while x < len(arr):\n",
        "        random = randint(1, 49)\n",
        "        if random not in arr:\n",
        "            arr[x] = random\n",
        "            x = x+1\n",
        "            np.array(arr)\n",
        "    print(sorted(arr))"
      ]
    }
  ]
}